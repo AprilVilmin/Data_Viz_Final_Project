{
 "cells": [
  {
   "cell_type": "code",
   "execution_count": 1,
   "id": "9eea7f36",
   "metadata": {},
   "outputs": [],
   "source": [
    "# Initial imports\n",
    "import pandas as pd\n",
    "import hvplot.pandas\n",
    "from path import Path\n",
    "import plotly.express as px\n",
    "from sklearn.preprocessing import StandardScaler, MinMaxScaler\n",
    "from sklearn.decomposition import PCA\n",
    "from sklearn.cluster import KMeans"
   ]
  },
  {
   "cell_type": "code",
   "execution_count": 2,
   "id": "9c382a7b",
   "metadata": {},
   "outputs": [],
   "source": [
    "# Read in our housing clean data\n",
    "housing_clean_df = pd.read.csv ()"
   ]
  },
  {
   "cell_type": "code",
   "execution_count": null,
   "id": "9c0b96c3",
   "metadata": {},
   "outputs": [],
   "source": [
    "housing_clean_df.head()"
   ]
  },
  {
   "cell_type": "code",
   "execution_count": 3,
   "id": "078458c2",
   "metadata": {},
   "outputs": [],
   "source": [
    "#read in our covid clean data\n",
    "covid_clean_df = pd.read.csv ()"
   ]
  },
  {
   "cell_type": "code",
   "execution_count": null,
   "id": "287d936f",
   "metadata": {},
   "outputs": [],
   "source": [
    "covid_clean_data_df.head()"
   ]
  },
  {
   "cell_type": "code",
   "execution_count": null,
   "id": "e28fd22b",
   "metadata": {},
   "outputs": [],
   "source": [
    "# Keep all the covid numbers that have a working algorithm.\n",
    "covid_clean_df = covid_clean_df[covid_df.Algorithm != 'N/A']\n",
    "covid_clean_df.head()"
   ]
  },
  {
   "cell_type": "markdown",
   "id": "4d4bee58",
   "metadata": {},
   "source": [
    "#  standard scaler"
   ]
  },
  {
   "cell_type": "code",
   "execution_count": null,
   "id": "a18da55e",
   "metadata": {},
   "outputs": [],
   "source": [
    "# Use get_dummies() to create variables for text features.\n",
    "X = pd.get_dummies(data=covid_clean_df, columns=['Algorithm', 'ProofType'])\n",
    "X.head(10)"
   ]
  },
  {
   "cell_type": "code",
   "execution_count": null,
   "id": "61f9e584",
   "metadata": {},
   "outputs": [],
   "source": [
    "# Standardize the data with StandardScaler().\n",
    "X_scaled = StandardScaler().fit_transform(X)\n",
    "print(X_scaled[0:5])"
   ]
  },
  {
   "cell_type": "markdown",
   "id": "738bcf50",
   "metadata": {},
   "source": []
  },
  {
   "cell_type": "markdown",
   "id": "8f7b387f",
   "metadata": {},
   "source": [
    "# Reducing Data Dimensions Using PCA"
   ]
  },
  {
   "cell_type": "code",
   "execution_count": null,
   "id": "7e21f8a6",
   "metadata": {},
   "outputs": [],
   "source": [
    "# Using PCA to reduce dimension to three principal components.\n",
    "# Initialize PCA model\n",
    "pca = PCA(n_components=3)\n",
    "covid_clean_pca_df = pca.fit_transform(X_scaled)\n",
    "covid_clean_pca_df"
   ]
  },
  {
   "cell_type": "code",
   "execution_count": null,
   "id": "adb56799",
   "metadata": {},
   "outputs": [],
   "source": [
    "# Create a DataFrame with the three principal components.\n",
    "pcs_df = pd.DataFrame(data=covid_clean_pca_df, columns=[\"PC 1\", \"PC 2\", \"PC 3\"], index=X.index)\n",
    "pcs_df.head(10)"
   ]
  },
  {
   "cell_type": "code",
   "execution_count": null,
   "id": "25977320",
   "metadata": {},
   "outputs": [],
   "source": []
  },
  {
   "cell_type": "markdown",
   "id": "4b7adab4",
   "metadata": {},
   "source": [
    "# Clustering Crytocurrencies Using K-Means"
   ]
  },
  {
   "cell_type": "code",
   "execution_count": null,
   "id": "1b436517",
   "metadata": {},
   "outputs": [],
   "source": [
    "# Create an elbow curve to find the best value for K.\n",
    "inertia =[]\n",
    "k =list(range(1,11))\n",
    "\n",
    "# Looking for the best K\n",
    "for i in k:\n",
    "    km = KMeans(n_clusters=i, random_state=0)\n",
    "    km.fit(pcs_df)\n",
    "    inertia.append(km.inertia_)\n",
    "    \n",
    "# Define a DataFrame to plot the Elbow Curve using hvPlot\n",
    "elbow_data = {\"k\": k, \"inertia\": inertia}\n",
    "df_elbow = pd.DataFrame(elbow_data)\n",
    "df_elbow.hvplot.line(x=\"k\", y=\"inertia\", title=\"Elbow Curve\", xticks=k)"
   ]
  },
  {
   "cell_type": "code",
   "execution_count": null,
   "id": "cff7ef51",
   "metadata": {},
   "outputs": [],
   "source": [
    "# Initialize the K-Means model.\n",
    "model = KMeans(n_clusters=4, random_state=0)\n",
    "model\n",
    "\n",
    "# Fit the model\n",
    "model.fit(covid_clean_df)\n",
    "\n",
    "# Predict clusters\n",
    "predictions = model.predict(covid_clean_df)\n",
    "print(predictions)"
   ]
  },
  {
   "cell_type": "code",
   "execution_count": null,
   "id": "04af1b96",
   "metadata": {},
   "outputs": [],
   "source": [
    "PLOT???**"
   ]
  },
  {
   "cell_type": "code",
   "execution_count": null,
   "id": "b91d040b",
   "metadata": {},
   "outputs": [],
   "source": [
    "# Create a new DataFrame including predicted clusters and covid features.\n",
    "# Concatentate the covid_clean_df and pcs_df DataFrames on the same columns.\n",
    "clustered_df = pd.concat([covid_clean_df, pcs_df], axis=1)\n",
    "\n",
    "#  Add a new column, \"StateName\" to the clustered_df DataFrame\n",
    "clustered_df[\"StateName\"] = state_names_df\n",
    "\n",
    "#  Add a new column, \"prediction 2022\" to the clustered_df DataFrame that holds the predictions.\n",
    "clustered_df[\"predictions 2022\"] = predictions\n",
    "\n",
    "# Print the shape of the clustered_df\n",
    "print(clustered_df.shape)\n",
    "clustered_df.head(10)"
   ]
  },
  {
   "cell_type": "code",
   "execution_count": null,
   "id": "da8ac281",
   "metadata": {},
   "outputs": [],
   "source": [
    "# Creating a 3D-Scatter with the PCA data and the clusters\n",
    "fig = px.scatter_3d(clustered_df, x=\"PC 1\", y=\"PC 2\", z=\"PC 3\", color=class\", symbol=\"class\", hover_name=\"state\", hover_data=[\"Algorithm\"], width=800)\n",
    "fig.update_layout(legend=dict(x=0,y=1))\n",
    "fig.show()"
   ]
  },
  {
   "cell_type": "code",
   "execution_count": null,
   "id": "f95be462",
   "metadata": {},
   "outputs": [],
   "source": []
  }
 ],
 "metadata": {
  "kernelspec": {
   "display_name": "Python 3 (ipykernel)",
   "language": "python",
   "name": "python3"
  },
  "language_info": {
   "codemirror_mode": {
    "name": "ipython",
    "version": 3
   },
   "file_extension": ".py",
   "mimetype": "text/x-python",
   "name": "python",
   "nbconvert_exporter": "python",
   "pygments_lexer": "ipython3",
   "version": "3.9.7"
  }
 },
 "nbformat": 4,
 "nbformat_minor": 5
}
