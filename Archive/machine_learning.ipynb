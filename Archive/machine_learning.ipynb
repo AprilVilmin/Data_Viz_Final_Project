{
 "cells": [
  {
   "cell_type": "code",
   "execution_count": 1,
   "id": "f76fc7bd",
   "metadata": {},
   "outputs": [],
   "source": [
    "import pandas as pd\n",
    "import matplotlib as plt\n",
    "from sklearn.model_selection import train_test_split\n",
    "from sklearn.preprocessing import StandardScaler, OneHotEncoder\n",
    "from tensorflow.keras.models import Sequential\n",
    "from tensorflow.keras.layers import Dense\n",
    "import keras_tuner as kt\n",
    "\n",
    "import tensorflow as tf\n",
    "from sqlalchemy import create_engine\n",
    "\n",
    "\n",
    "from sklearn.datasets import make_blobs, make_moons, make_circles\n",
    "%matplotlib inline"
   ]
  },
  {
   "cell_type": "markdown",
   "id": "98964f09",
   "metadata": {},
   "source": [
    "# Importing data\n",
    "Two available options below\n",
    "1. Can connect to the database that has the table raw_daily_covid_info or \n",
    "2. Import directly from CSV.\n",
    "\n",
    "Uncomment the block that you want to use"
   ]
  },
  {
   "cell_type": "code",
   "execution_count": 4,
   "id": "b82b8cee",
   "metadata": {
    "scrolled": true
   },
   "outputs": [],
   "source": [
    "#Option 1 - Read from DB\n",
    "#Update config.py file with password, DB name, and server\n",
    "from config import db_password, db_name, db_server\n",
    "db_string = f\"postgresql://postgres:{db_password}@{db_server}/{db_name}\"\n",
    "engine = create_engine(db_string)\n",
    "with engine.connect() as connection:\n",
    "    covid_df = pd.read_sql(\"select extract(month from submission_date) as period_begin_month,extract(year from submission_date) as period_begin_year,concat(extract(month from submission_date),'-',extract(year from submission_date)) as period_begin_month_year,concat(extract(month from submission_date),'-',extract(year from submission_date),state) as covid_month_year_state,state,states.state_name_title_case,sum(new_case + pnew_case) as cases,sum(new_death+pnew_death) as deaths from raw_daily_covid_info INNER JOIN states ON raw_daily_covid_info.state=states.state_two_letter_abbreviation where state in ('MN', 'CA', 'FL','TX','WA') and submission_date >= '2020-01-01' and submission_date < '2022-01-01' group by state, states.state_name_title_case, period_begin_month,period_begin_year order by state, period_begin_year, period_begin_month;\", db_string)\n",
    "    housing_df = pd.read_sql(\"select * from housing_data;\", db_string)\n"
   ]
  },
  {
   "cell_type": "code",
   "execution_count": 9,
   "id": "8cd18822",
   "metadata": {},
   "outputs": [],
   "source": [
    "\n",
    "# #Option 2 - import from CSV\n",
    "# covid_df = pd.read_csv(\"Resources/covid_daily_info.csv\")\n",
    "# covid_df.head()\n",
    "# housing_df = pd.read_csv(\"Resources/housing_data.csv\")"
   ]
  },
  {
   "cell_type": "code",
   "execution_count": 24,
   "id": "c0042e4f",
   "metadata": {},
   "outputs": [
    {
     "data": {
      "text/plain": [
       "Index(['period_begin_month', 'period_begin_year', 'period_begin_month_year',\n",
       "       'covid_month_year_state', 'state', 'cases', 'deaths'],\n",
       "      dtype='object')"
      ]
     },
     "execution_count": 24,
     "metadata": {},
     "output_type": "execute_result"
    }
   ],
   "source": [
    "covid_df.columns"
   ]
  },
  {
   "cell_type": "code",
   "execution_count": 25,
   "id": "1d95f09a",
   "metadata": {},
   "outputs": [
    {
     "data": {
      "text/plain": [
       "period_begin_month           int32\n",
       "period_begin_year            int32\n",
       "period_begin_month_year     object\n",
       "covid_month_year_state      object\n",
       "state                       object\n",
       "cases                        int32\n",
       "deaths                     float64\n",
       "dtype: object"
      ]
     },
     "execution_count": 25,
     "metadata": {},
     "output_type": "execute_result"
    }
   ],
   "source": [
    "covid_df.dtypes"
   ]
  },
  {
   "cell_type": "code",
   "execution_count": 29,
   "id": "387785a6",
   "metadata": {},
   "outputs": [
    {
     "data": {
      "text/html": [
       "<div>\n",
       "<style scoped>\n",
       "    .dataframe tbody tr th:only-of-type {\n",
       "        vertical-align: middle;\n",
       "    }\n",
       "\n",
       "    .dataframe tbody tr th {\n",
       "        vertical-align: top;\n",
       "    }\n",
       "\n",
       "    .dataframe thead th {\n",
       "        text-align: right;\n",
       "    }\n",
       "</style>\n",
       "<table border=\"1\" class=\"dataframe\">\n",
       "  <thead>\n",
       "    <tr style=\"text-align: right;\">\n",
       "      <th></th>\n",
       "      <th>period_begin_month</th>\n",
       "      <th>period_begin_year</th>\n",
       "      <th>period_begin_month_year</th>\n",
       "      <th>covid_month_year_state</th>\n",
       "      <th>state</th>\n",
       "      <th>cases</th>\n",
       "      <th>deaths</th>\n",
       "    </tr>\n",
       "  </thead>\n",
       "  <tbody>\n",
       "    <tr>\n",
       "      <th>0</th>\n",
       "      <td>1</td>\n",
       "      <td>2020</td>\n",
       "      <td>1-2020</td>\n",
       "      <td>1-2020CA</td>\n",
       "      <td>CA</td>\n",
       "      <td>0</td>\n",
       "      <td>0</td>\n",
       "    </tr>\n",
       "    <tr>\n",
       "      <th>1</th>\n",
       "      <td>2</td>\n",
       "      <td>2020</td>\n",
       "      <td>2-2020</td>\n",
       "      <td>2-2020CA</td>\n",
       "      <td>CA</td>\n",
       "      <td>34</td>\n",
       "      <td>0</td>\n",
       "    </tr>\n",
       "    <tr>\n",
       "      <th>2</th>\n",
       "      <td>3</td>\n",
       "      <td>2020</td>\n",
       "      <td>3-2020</td>\n",
       "      <td>3-2020CA</td>\n",
       "      <td>CA</td>\n",
       "      <td>6898</td>\n",
       "      <td>150</td>\n",
       "    </tr>\n",
       "    <tr>\n",
       "      <th>3</th>\n",
       "      <td>4</td>\n",
       "      <td>2020</td>\n",
       "      <td>4-2020</td>\n",
       "      <td>4-2020CA</td>\n",
       "      <td>CA</td>\n",
       "      <td>41985</td>\n",
       "      <td>1740</td>\n",
       "    </tr>\n",
       "    <tr>\n",
       "      <th>4</th>\n",
       "      <td>5</td>\n",
       "      <td>2020</td>\n",
       "      <td>5-2020</td>\n",
       "      <td>5-2020CA</td>\n",
       "      <td>CA</td>\n",
       "      <td>61666</td>\n",
       "      <td>2153</td>\n",
       "    </tr>\n",
       "  </tbody>\n",
       "</table>\n",
       "</div>"
      ],
      "text/plain": [
       "   period_begin_month  period_begin_year period_begin_month_year  \\\n",
       "0                   1               2020                  1-2020   \n",
       "1                   2               2020                  2-2020   \n",
       "2                   3               2020                  3-2020   \n",
       "3                   4               2020                  4-2020   \n",
       "4                   5               2020                  5-2020   \n",
       "\n",
       "  covid_month_year_state state  cases  deaths  \n",
       "0               1-2020CA    CA      0       0  \n",
       "1               2-2020CA    CA     34       0  \n",
       "2               3-2020CA    CA   6898     150  \n",
       "3               4-2020CA    CA  41985    1740  \n",
       "4               5-2020CA    CA  61666    2153  "
      ]
     },
     "execution_count": 29,
     "metadata": {},
     "output_type": "execute_result"
    }
   ],
   "source": [
    "covid_df['period_begin_month'] = covid_df['period_begin_month'].astype('int')\n",
    "covid_df['period_begin_year'] = covid_df['period_begin_year'].astype('int')\n",
    "\n",
    "#dropped NA\n",
    "covid_df = covid_df.dropna()\n",
    "covid_df['cases'] = covid_df['cases'].astype('int')\n",
    "covid_df['deaths'] = covid_df['deaths'].astype('int')\n",
    "covid_df.head()"
   ]
  },
  {
   "cell_type": "code",
   "execution_count": 28,
   "id": "9575c6de",
   "metadata": {},
   "outputs": [
    {
     "data": {
      "text/html": [
       "<div>\n",
       "<style scoped>\n",
       "    .dataframe tbody tr th:only-of-type {\n",
       "        vertical-align: middle;\n",
       "    }\n",
       "\n",
       "    .dataframe tbody tr th {\n",
       "        vertical-align: top;\n",
       "    }\n",
       "\n",
       "    .dataframe thead th {\n",
       "        text-align: right;\n",
       "    }\n",
       "</style>\n",
       "<table border=\"1\" class=\"dataframe\">\n",
       "  <thead>\n",
       "    <tr style=\"text-align: right;\">\n",
       "      <th></th>\n",
       "      <th>period_begin</th>\n",
       "      <th>period_end</th>\n",
       "      <th>period_duration</th>\n",
       "      <th>region_type</th>\n",
       "      <th>region_type_id</th>\n",
       "      <th>table_id</th>\n",
       "      <th>is_seasonally_adjusted</th>\n",
       "      <th>region</th>\n",
       "      <th>city</th>\n",
       "      <th>state</th>\n",
       "      <th>...</th>\n",
       "      <th>sold_above_list_yoy</th>\n",
       "      <th>price_drops</th>\n",
       "      <th>price_drops_mom</th>\n",
       "      <th>price_drops_yoy</th>\n",
       "      <th>off_market_in_two_weeks</th>\n",
       "      <th>off_market_in_two_weeks_mom</th>\n",
       "      <th>off_market_in_two_weeks_yoy</th>\n",
       "      <th>parent_metro_region</th>\n",
       "      <th>parent_metro_region_metro_code</th>\n",
       "      <th>last_updated</th>\n",
       "    </tr>\n",
       "  </thead>\n",
       "  <tbody>\n",
       "    <tr>\n",
       "      <th>0</th>\n",
       "      <td>2020-03-01</td>\n",
       "      <td>2020-03-31</td>\n",
       "      <td>30</td>\n",
       "      <td>county</td>\n",
       "      <td>5</td>\n",
       "      <td>1146</td>\n",
       "      <td>False</td>\n",
       "      <td>Franklin County, KY</td>\n",
       "      <td>None</td>\n",
       "      <td>Kentucky</td>\n",
       "      <td>...</td>\n",
       "      <td>0.179693</td>\n",
       "      <td>0.152381</td>\n",
       "      <td>-0.078388</td>\n",
       "      <td>-0.087056</td>\n",
       "      <td>0.530612</td>\n",
       "      <td>0.058390</td>\n",
       "      <td>-0.069388</td>\n",
       "      <td>Frankfort, KY</td>\n",
       "      <td>23180.0</td>\n",
       "      <td>2022-01-09 14:29:56</td>\n",
       "    </tr>\n",
       "    <tr>\n",
       "      <th>1</th>\n",
       "      <td>2021-01-01</td>\n",
       "      <td>2021-01-31</td>\n",
       "      <td>30</td>\n",
       "      <td>county</td>\n",
       "      <td>5</td>\n",
       "      <td>143</td>\n",
       "      <td>False</td>\n",
       "      <td>DeKalb County, AL</td>\n",
       "      <td>None</td>\n",
       "      <td>Alabama</td>\n",
       "      <td>...</td>\n",
       "      <td>-0.175758</td>\n",
       "      <td>0.126214</td>\n",
       "      <td>-0.035949</td>\n",
       "      <td>-0.031422</td>\n",
       "      <td>0.360000</td>\n",
       "      <td>0.181429</td>\n",
       "      <td>0.047500</td>\n",
       "      <td>Fort Payne, AL</td>\n",
       "      <td>22840.0</td>\n",
       "      <td>2022-01-09 14:29:56</td>\n",
       "    </tr>\n",
       "    <tr>\n",
       "      <th>2</th>\n",
       "      <td>2020-09-01</td>\n",
       "      <td>2020-09-30</td>\n",
       "      <td>30</td>\n",
       "      <td>county</td>\n",
       "      <td>5</td>\n",
       "      <td>359</td>\n",
       "      <td>False</td>\n",
       "      <td>Yolo County, CA</td>\n",
       "      <td>None</td>\n",
       "      <td>California</td>\n",
       "      <td>...</td>\n",
       "      <td>0.124419</td>\n",
       "      <td>0.183761</td>\n",
       "      <td>-0.043130</td>\n",
       "      <td>-0.114626</td>\n",
       "      <td>0.609756</td>\n",
       "      <td>-0.005629</td>\n",
       "      <td>0.208396</td>\n",
       "      <td>Sacramento, CA</td>\n",
       "      <td>40900.0</td>\n",
       "      <td>2022-01-09 14:29:56</td>\n",
       "    </tr>\n",
       "    <tr>\n",
       "      <th>3</th>\n",
       "      <td>2020-11-01</td>\n",
       "      <td>2020-11-30</td>\n",
       "      <td>30</td>\n",
       "      <td>county</td>\n",
       "      <td>5</td>\n",
       "      <td>368</td>\n",
       "      <td>False</td>\n",
       "      <td>Broomfield County, CO</td>\n",
       "      <td>None</td>\n",
       "      <td>Colorado</td>\n",
       "      <td>...</td>\n",
       "      <td>0.500000</td>\n",
       "      <td>0.333333</td>\n",
       "      <td>-0.166667</td>\n",
       "      <td>-0.030303</td>\n",
       "      <td>0.250000</td>\n",
       "      <td>-0.477273</td>\n",
       "      <td>-0.250000</td>\n",
       "      <td>Denver, CO</td>\n",
       "      <td>19740.0</td>\n",
       "      <td>2022-01-09 14:29:56</td>\n",
       "    </tr>\n",
       "    <tr>\n",
       "      <th>4</th>\n",
       "      <td>2021-12-01</td>\n",
       "      <td>2021-12-31</td>\n",
       "      <td>30</td>\n",
       "      <td>county</td>\n",
       "      <td>5</td>\n",
       "      <td>702</td>\n",
       "      <td>False</td>\n",
       "      <td>Nez Perce County, ID</td>\n",
       "      <td>None</td>\n",
       "      <td>Idaho</td>\n",
       "      <td>...</td>\n",
       "      <td>-0.007092</td>\n",
       "      <td>0.482759</td>\n",
       "      <td>0.158434</td>\n",
       "      <td>NaN</td>\n",
       "      <td>0.666667</td>\n",
       "      <td>0.181818</td>\n",
       "      <td>0.630952</td>\n",
       "      <td>Lewiston, ID</td>\n",
       "      <td>30300.0</td>\n",
       "      <td>2022-01-09 14:29:56</td>\n",
       "    </tr>\n",
       "  </tbody>\n",
       "</table>\n",
       "<p>5 rows × 58 columns</p>\n",
       "</div>"
      ],
      "text/plain": [
       "  period_begin  period_end  period_duration region_type  region_type_id  \\\n",
       "0   2020-03-01  2020-03-31               30      county               5   \n",
       "1   2021-01-01  2021-01-31               30      county               5   \n",
       "2   2020-09-01  2020-09-30               30      county               5   \n",
       "3   2020-11-01  2020-11-30               30      county               5   \n",
       "4   2021-12-01  2021-12-31               30      county               5   \n",
       "\n",
       "   table_id  is_seasonally_adjusted                 region  city       state  \\\n",
       "0      1146                   False    Franklin County, KY  None    Kentucky   \n",
       "1       143                   False      DeKalb County, AL  None     Alabama   \n",
       "2       359                   False        Yolo County, CA  None  California   \n",
       "3       368                   False  Broomfield County, CO  None    Colorado   \n",
       "4       702                   False   Nez Perce County, ID  None       Idaho   \n",
       "\n",
       "   ... sold_above_list_yoy price_drops  price_drops_mom  price_drops_yoy  \\\n",
       "0  ...            0.179693    0.152381        -0.078388        -0.087056   \n",
       "1  ...           -0.175758    0.126214        -0.035949        -0.031422   \n",
       "2  ...            0.124419    0.183761        -0.043130        -0.114626   \n",
       "3  ...            0.500000    0.333333        -0.166667        -0.030303   \n",
       "4  ...           -0.007092    0.482759         0.158434              NaN   \n",
       "\n",
       "   off_market_in_two_weeks  off_market_in_two_weeks_mom  \\\n",
       "0                 0.530612                     0.058390   \n",
       "1                 0.360000                     0.181429   \n",
       "2                 0.609756                    -0.005629   \n",
       "3                 0.250000                    -0.477273   \n",
       "4                 0.666667                     0.181818   \n",
       "\n",
       "   off_market_in_two_weeks_yoy  parent_metro_region  \\\n",
       "0                    -0.069388        Frankfort, KY   \n",
       "1                     0.047500       Fort Payne, AL   \n",
       "2                     0.208396       Sacramento, CA   \n",
       "3                    -0.250000           Denver, CO   \n",
       "4                     0.630952         Lewiston, ID   \n",
       "\n",
       "   parent_metro_region_metro_code        last_updated  \n",
       "0                         23180.0 2022-01-09 14:29:56  \n",
       "1                         22840.0 2022-01-09 14:29:56  \n",
       "2                         40900.0 2022-01-09 14:29:56  \n",
       "3                         19740.0 2022-01-09 14:29:56  \n",
       "4                         30300.0 2022-01-09 14:29:56  \n",
       "\n",
       "[5 rows x 58 columns]"
      ]
     },
     "execution_count": 28,
     "metadata": {},
     "output_type": "execute_result"
    }
   ],
   "source": [
    "housing_df.head()"
   ]
  },
  {
   "cell_type": "markdown",
   "id": "43d3a329",
   "metadata": {},
   "source": [
    "# Splitting into test and train data"
   ]
  },
  {
   "cell_type": "code",
   "execution_count": 12,
   "id": "5e006629",
   "metadata": {},
   "outputs": [],
   "source": [
    "#Placeholder for data\n",
    "X,y = make_moons(n_samples=1000, noise=0.8, random_state=1)\n",
    "y = y.reshape(-1,1)\n",
    "df = pd.DataFrame(X, columns = [\"feature1\", \"feature2\"])\n",
    "df[\"target\"] = y\n",
    "X_train, X_test, y_train, y_test = train_test_split(X,y, random_state=1)\n",
    "scaler = StandardScaler()\n",
    "scaler.fit(X_train)\n",
    "X_train_scaled = scaler.transform(X_train)\n",
    "X_test_scaled = scaler.transform(X_test)"
   ]
  },
  {
   "cell_type": "code",
   "execution_count": 13,
   "id": "11f40058",
   "metadata": {},
   "outputs": [
    {
     "data": {
      "text/plain": [
       "<AxesSubplot:xlabel='feature1', ylabel='feature2'>"
      ]
     },
     "execution_count": 13,
     "metadata": {},
     "output_type": "execute_result"
    },
    {
     "data": {
      "image/png": "[encoded data removed]",
      "text/plain": [
       "<Figure size 432x288 with 2 Axes>"
      ]
     },
     "metadata": {
      "needs_background": "light"
     },
     "output_type": "display_data"
    }
   ],
   "source": [
    "df.plot.scatter(x= \"feature1\", y=\"feature2\", c = \"target\", colormap = \"winter\")"
   ]
  },
  {
   "cell_type": "code",
   "execution_count": 14,
   "id": "997e68d4",
   "metadata": {},
   "outputs": [],
   "source": [
    "def create_model(hp):\n",
    "  model = Sequential()\n",
    "  activation = hp.Choice(\"activation\", [\"relu\",\"tanh\",\"sigmoid\"])\n",
    "\n",
    "  model.add(Dense(units = hp.Int(\"num_neurons\", 1,8, step = 3),\n",
    "                  activation  = activation,\n",
    "                  input_dim = 2))\n",
    "  \n",
    "  for x in range(hp.Int(\"num_layers\", 1,6)):\n",
    "    model.add(Dense(units = hp.Int(\"num_layers_\" + str(x+2), 1,10,step = 2), \n",
    "                    activation = activation \n",
    "                    ))\n",
    "  model.add(Dense(units = 1, activation = \"sigmoid\"))\n",
    "\n",
    "#Need to update the loss and optimizer for our problem. currently it is set to a binary classification problem\n",
    "  model.compile(loss = \"binary_crossentropy\", optimizer = \"adam\", metrics = [\"accuracy\"])\n",
    "\n",
    "  return model\n",
    "    "
   ]
  },
  {
   "cell_type": "code",
   "execution_count": 15,
   "id": "49fcae21",
   "metadata": {},
   "outputs": [],
   "source": [
    "tuner = kt.Hyperband(\n",
    "    create_model,\n",
    "    objective = \"val_accuracy\",\n",
    "    max_epochs = 10,\n",
    "    hyperband_iterations=2,\n",
    "    overwrite = True\n",
    ")"
   ]
  },
  {
   "cell_type": "code",
   "execution_count": 16,
   "id": "8fda2f9d",
   "metadata": {},
   "outputs": [
    {
     "name": "stdout",
     "output_type": "stream",
     "text": [
      "Trial 60 Complete [00h 00m 01s]\n",
      "val_accuracy: 0.699999988079071\n",
      "\n",
      "Best val_accuracy So Far: 0.7440000176429749\n",
      "Total elapsed time: 00h 01m 03s\n",
      "INFO:tensorflow:Oracle triggered exit\n"
     ]
    }
   ],
   "source": [
    "tuner.search(X_train_scaled, y_train, epochs = 5, validation_data = (X_test_scaled, y_test))"
   ]
  },
  {
   "cell_type": "code",
   "execution_count": 17,
   "id": "0a5f1cba",
   "metadata": {},
   "outputs": [
    {
     "data": {
      "text/plain": [
       "[<keras_tuner.engine.hyperparameters.HyperParameters at 0x1671cff2848>,\n",
       " <keras_tuner.engine.hyperparameters.HyperParameters at 0x16724e08488>,\n",
       " <keras_tuner.engine.hyperparameters.HyperParameters at 0x16725f46cc8>]"
      ]
     },
     "execution_count": 17,
     "metadata": {},
     "output_type": "execute_result"
    }
   ],
   "source": [
    "tuner.get_best_hyperparameters(3)"
   ]
  },
  {
   "cell_type": "code",
   "execution_count": 18,
   "id": "32515d40",
   "metadata": {},
   "outputs": [
    {
     "data": {
      "text/plain": [
       "[<keras_tuner.engine.hyperparameters.HyperParameters at 0x1671cff2848>,\n",
       " <keras_tuner.engine.hyperparameters.HyperParameters at 0x16724e08488>,\n",
       " <keras_tuner.engine.hyperparameters.HyperParameters at 0x16725f46cc8>]"
      ]
     },
     "execution_count": 18,
     "metadata": {},
     "output_type": "execute_result"
    }
   ],
   "source": [
    "tuner.get_best_hyperparameters(3)"
   ]
  },
  {
   "cell_type": "code",
   "execution_count": null,
   "id": "98764400",
   "metadata": {},
   "outputs": [],
   "source": []
  }
 ],
 "metadata": {
  "kernelspec": {
   "display_name": "mlenv",
   "language": "python",
   "name": "mlenv"
  },
  "language_info": {
   "codemirror_mode": {
    "name": "ipython",
    "version": 3
   },
   "file_extension": ".py",
   "mimetype": "text/x-python",
   "name": "python",
   "nbconvert_exporter": "python",
   "pygments_lexer": "ipython3",
   "version": "3.7.11"
  }
 },
 "nbformat": 4,
 "nbformat_minor": 5
}
